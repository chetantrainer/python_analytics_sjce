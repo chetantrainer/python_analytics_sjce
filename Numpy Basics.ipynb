{
 "cells": [
  {
   "cell_type": "markdown",
   "metadata": {},
   "source": [
    "# Numpy "
   ]
  },
  {
   "cell_type": "markdown",
   "metadata": {},
   "source": [
    "* NumPy operations perform complex computations on entire arrays without the need for Python for loops.\n",
    "* Fast vectorized array operations for data munging and cleaning, subsetting and filtering, transformation, and any other kinds of computations\n",
    "* Common array algorithms like sorting, unique, and set operations\n",
    "* Efficient descriptive statistics and aggregating/summarizing data\n",
    "* Data alignment and relational data manipulations for merging and joining together heterogeneous datasets\n",
    "* Expressing conditional logic as array expressions instead of loops with if-elif-else branches\n",
    "* Group-wise data manipulations (aggregation, transformation, function application)"
   ]
  },
  {
   "cell_type": "code",
   "execution_count": 1,
   "metadata": {},
   "outputs": [],
   "source": [
    "import numpy as np"
   ]
  },
  {
   "cell_type": "markdown",
   "metadata": {},
   "source": [
    "# Faster Computation"
   ]
  },
  {
   "cell_type": "code",
   "execution_count": 2,
   "metadata": {},
   "outputs": [],
   "source": [
    "np_array = np.arange(1000000)\n",
    "lst_num = list(range(1000000))"
   ]
  },
  {
   "cell_type": "code",
   "execution_count": 3,
   "metadata": {},
   "outputs": [
    {
     "name": "stdout",
     "output_type": "stream",
     "text": [
      "CPU times: user 6.13 ms, sys: 19.1 ms, total: 25.3 ms\n",
      "Wall time: 23.2 ms\n"
     ]
    }
   ],
   "source": [
    "%%time \n",
    "for i in range(10): np_array = np_array*2"
   ]
  },
  {
   "cell_type": "code",
   "execution_count": 4,
   "metadata": {},
   "outputs": [
    {
     "name": "stdout",
     "output_type": "stream",
     "text": [
      "CPU times: user 405 ms, sys: 66.6 ms, total: 472 ms\n",
      "Wall time: 472 ms\n"
     ]
    }
   ],
   "source": [
    "%%time\n",
    "for i in range(10): lst_num = [i*2 for i in lst_num]"
   ]
  },
  {
   "cell_type": "markdown",
   "metadata": {},
   "source": [
    "## Inspection of Structure"
   ]
  },
  {
   "cell_type": "code",
   "execution_count": 5,
   "metadata": {},
   "outputs": [
    {
     "name": "stdout",
     "output_type": "stream",
     "text": [
      "94261447332608\n",
      "94261447333216\n",
      "94261447333056\n",
      "94261447332704\n",
      "94261447332736\n"
     ]
    }
   ],
   "source": [
    "lst_num = [1,20,15,4,5]\n",
    "for num in lst_num:\n",
    "    print(id(num))"
   ]
  },
  {
   "cell_type": "markdown",
   "metadata": {},
   "source": [
    "<html>\n",
    "    <table><caption> Lists</caption>\n",
    "        <tr><th>Elements</th><th>Reference</th></tr>\n",
    "        <tr><th>1</th><th>94367780467456</th></tr>\n",
    "        <tr><th>20</th><th>94367780468064</th></tr>\n",
    "        <tr><th>15</th><th>94367780467904</th></tr>\n",
    "        <tr><th>4</th><th>94367780467552</th></tr>\n",
    "        <tr><th>5</th><th>94367780467584</th></tr>        \n",
    "    </table>\n",
    " </html>"
   ]
  },
  {
   "cell_type": "code",
   "execution_count": 6,
   "metadata": {},
   "outputs": [
    {
     "name": "stdout",
     "output_type": "stream",
     "text": [
      "8 139682550040176\n",
      "27 139682550039984\n",
      "24 139682550040176\n",
      "20 139682550039984\n",
      "26 139682550040176\n"
     ]
    }
   ],
   "source": [
    "arr_test = np.random.randint(1,30,size = (5,1)).ravel()\n",
    "for ele in arr_test:\n",
    "    print(f'{ele}',id(ele))"
   ]
  },
  {
   "cell_type": "markdown",
   "metadata": {},
   "source": [
    "# ndarray"
   ]
  },
  {
   "cell_type": "code",
   "execution_count": 7,
   "metadata": {},
   "outputs": [
    {
     "data": {
      "text/plain": [
       "array([1, 2, 3, 4, 5])"
      ]
     },
     "execution_count": 7,
     "metadata": {},
     "output_type": "execute_result"
    }
   ],
   "source": [
    "arr1 = np.array([1,2,3,4,5])\n",
    "arr1"
   ]
  },
  {
   "cell_type": "code",
   "execution_count": 8,
   "metadata": {},
   "outputs": [
    {
     "name": "stdout",
     "output_type": "stream",
     "text": [
      "1\n",
      "2\n",
      "3\n",
      "4\n",
      "5\n"
     ]
    }
   ],
   "source": [
    "for element in arr1:\n",
    "    print(element)"
   ]
  },
  {
   "cell_type": "code",
   "execution_count": 32,
   "metadata": {},
   "outputs": [
    {
     "name": "stdout",
     "output_type": "stream",
     "text": [
      "[[1 2 3 4 5]\n",
      " [1 2 3 4 5]]\n"
     ]
    }
   ],
   "source": [
    "arr2 = np.array([[1,2,3,4,5],[1,2,3,4,5]])\n",
    "print(arr2)"
   ]
  },
  {
   "cell_type": "code",
   "execution_count": 12,
   "metadata": {},
   "outputs": [
    {
     "data": {
      "text/plain": [
       "(1, 2)"
      ]
     },
     "execution_count": 12,
     "metadata": {},
     "output_type": "execute_result"
    }
   ],
   "source": [
    "arr1.ndim,arr2.ndim"
   ]
  },
  {
   "cell_type": "code",
   "execution_count": 13,
   "metadata": {},
   "outputs": [
    {
     "data": {
      "text/plain": [
       "(2, 5)"
      ]
     },
     "execution_count": 13,
     "metadata": {},
     "output_type": "execute_result"
    }
   ],
   "source": [
    "arr2.shape"
   ]
  },
  {
   "cell_type": "code",
   "execution_count": 14,
   "metadata": {},
   "outputs": [
    {
     "data": {
      "text/plain": [
       "10"
      ]
     },
     "execution_count": 14,
     "metadata": {},
     "output_type": "execute_result"
    }
   ],
   "source": [
    "arr2.size"
   ]
  },
  {
   "cell_type": "markdown",
   "metadata": {},
   "source": [
    "<dl class=\"docutils\">\n",
    "<dt>ndarray.ndim</dt>\n",
    "<dd>the number of axes (dimensions) of the array.</dd>\n",
    "<dt>ndarray.shape</dt>\n",
    "<dd>the dimensions of the array. This is a tuple of integers indicating\n",
    "the size of the array in each dimension. For a matrix with <em>n</em> rows\n",
    "and <em>m</em> columns, <code class=\"docutils literal notranslate\"><span class=\"pre\">shape</span></code> will be <code class=\"docutils literal notranslate\"><span class=\"pre\">(n,m)</span></code>. The length of the\n",
    "<code class=\"docutils literal notranslate\"><span class=\"pre\">shape</span></code> tuple is therefore the number of axes, <code class=\"docutils literal notranslate\"><span class=\"pre\">ndim</span></code>.</dd>\n",
    "<dt>ndarray.size</dt>\n",
    "<dd>the total number of elements of the array. This is equal to the\n",
    "product of the elements of <code class=\"docutils literal notranslate\"><span class=\"pre\">shape</span></code>.</dd>\n",
    "<dt>ndarray.dtype</dt>\n",
    "<dd>an object describing the type of the elements in the array. One can\n",
    "create or specify dtype’s using standard Python types. Additionally\n",
    "NumPy provides types of its own. numpy.int32, numpy.int16, and\n",
    "numpy.float64 are some examples.</dd>\n",
    "<dt>ndarray.itemsize</dt>\n",
    "<dd>the size in bytes of each element of the array. For example, an\n",
    "array of elements of type <code class=\"docutils literal notranslate\"><span class=\"pre\">float64</span></code> has <code class=\"docutils literal notranslate\"><span class=\"pre\">itemsize</span></code> 8 (=64/8),\n",
    "while one of type <code class=\"docutils literal notranslate\"><span class=\"pre\">complex32</span></code> has <code class=\"docutils literal notranslate\"><span class=\"pre\">itemsize</span></code> 4 (=32/8). It is\n",
    "equivalent to <code class=\"docutils literal notranslate\"><span class=\"pre\">ndarray.dtype.itemsize</span></code>.</dd>\n",
    "<dt>ndarray.data</dt>\n",
    "<dd>the buffer containing the actual elements of the array. Normally, we\n",
    "won’t need to use this attribute because we will access the elements\n",
    "in an array using indexing facilities.</dd>\n",
    "</dl>"
   ]
  },
  {
   "cell_type": "code",
   "execution_count": 16,
   "metadata": {},
   "outputs": [
    {
     "data": {
      "text/plain": [
       "(numpy.ndarray, dtype('int64'))"
      ]
     },
     "execution_count": 16,
     "metadata": {},
     "output_type": "execute_result"
    }
   ],
   "source": [
    "type(arr2),arr2.dtype"
   ]
  },
  {
   "cell_type": "code",
   "execution_count": 21,
   "metadata": {},
   "outputs": [],
   "source": [
    "arr2 = np.array([1,2,3,5,'34'],dtype = np.float64)"
   ]
  },
  {
   "cell_type": "code",
   "execution_count": 23,
   "metadata": {},
   "outputs": [
    {
     "data": {
      "text/plain": [
       "(array([ 1.,  2.,  3.,  5., 34.]), dtype('float64'))"
      ]
     },
     "execution_count": 23,
     "metadata": {},
     "output_type": "execute_result"
    }
   ],
   "source": [
    "arr2,arr2.dtype"
   ]
  },
  {
   "cell_type": "code",
   "execution_count": 26,
   "metadata": {},
   "outputs": [],
   "source": [
    "arr1 = np.array([1,2,3,4],dtype ='i2')"
   ]
  },
  {
   "cell_type": "code",
   "execution_count": 28,
   "metadata": {},
   "outputs": [
    {
     "data": {
      "text/plain": [
       "dtype('int16')"
      ]
     },
     "execution_count": 28,
     "metadata": {},
     "output_type": "execute_result"
    }
   ],
   "source": [
    "arr1.dtype"
   ]
  },
  {
   "cell_type": "code",
   "execution_count": 27,
   "metadata": {},
   "outputs": [
    {
     "data": {
      "text/plain": [
       "2"
      ]
     },
     "execution_count": 27,
     "metadata": {},
     "output_type": "execute_result"
    }
   ],
   "source": [
    "arr1.itemsize"
   ]
  },
  {
   "cell_type": "markdown",
   "metadata": {},
   "source": [
    "<html>\n",
    "    <table id=\"table_array_dtypes\"><caption><span class=\"label\">Table 4-2. </span><b>NumPy data types</b></caption><thead><tr><th>Type</th><th>Type code</th><th>Description</th></tr></thead><tbody><tr><td><code>int8, uint8</code></td><td><code>i1, u1</code></td><td>Signed <a data-type=\"indexterm\" data-primary=\"int8 data type\" id=\"idm140621970284992\"></a><a data-type=\"indexterm\" data-primary=\"uint8 data type\" id=\"idm140621970284128\"></a>and unsigned 8-bit (1 byte) integer types</td></tr><tr><td><code>int16, uint16</code></td><td><code>i2, u2</code></td><td>Signed <a data-type=\"indexterm\" data-primary=\"int16 data type\" id=\"idm140621970281952\"></a><a data-type=\"indexterm\" data-primary=\"uint16 data type\" id=\"idm140621970281088\"></a>and unsigned 16-bit integer types</td></tr><tr><td><code>int32, uint32</code></td><td><code>i4, u4</code></td><td>Signed <a data-type=\"indexterm\" data-primary=\"int32 data type\" id=\"idm140621970278912\"></a><a data-type=\"indexterm\" data-primary=\"uint32 data type\" id=\"idm140621970278048\"></a>and unsigned 32-bit integer types</td></tr><tr><td><code>int64, uint64</code></td><td><code>i8, u8</code></td><td>Signed <a data-type=\"indexterm\" data-primary=\"int64 data type\" id=\"idm140621970275872\"></a><a data-type=\"indexterm\" data-primary=\"uint64 data type\" id=\"idm140621970275008\"></a>and unsigned 64-bit integer types</td></tr><tr><td><code>float16</code></td><td><code>f2</code></td><td>Half-precision<a data-type=\"indexterm\" data-primary=\"float16 data type\" id=\"idm140621970272832\"></a> floating point</td></tr><tr><td><code>float32</code></td><td><code>f4 or f</code></td><td>Standard <a data-type=\"indexterm\" data-primary=\"float32 data type\" id=\"idm140621970270592\"></a>single-precision floating point; compatible with C\n",
    "              float</td></tr><tr><td><code>float64</code></td><td><code>f8 or d</code></td><td>Standard <a data-type=\"indexterm\" data-primary=\"float64 data type\" id=\"idm140621970268384\"></a>double-precision floating point; compatible with C\n",
    "              double and Python <code>float</code>\n",
    "              object</td></tr><tr><td><code>float128</code></td><td><code>f16 or g</code></td><td>Extended-precision <a data-type=\"indexterm\" data-primary=\"float128 data type\" id=\"idm140621970265728\"></a>floating point</td></tr><tr><td><code>complex64</code>, <span class=\"keep-together\"><code>complex128</code></span>, <span class=\"keep-together\"><code>complex256</code></span></td><td><code>c8, c16, c32</code></td><td>Complex <a data-type=\"indexterm\" data-primary=\"complex64 data type\" id=\"idm140621970261792\"></a><a data-type=\"indexterm\" data-primary=\"complex128 data type\" id=\"idm140621970260928\"></a><a data-type=\"indexterm\" data-primary=\"complex256 data type\" id=\"idm140621970260096\"></a>numbers represented by two 32, 64, or 128 floats,\n",
    "              respectively</td></tr><tr><td><code>bool</code></td><td>?</td><td>Boolean <a data-type=\"indexterm\" data-primary=\"bool data type\" id=\"idm140621970258048\"></a>type storing <code>True</code> and <code>False</code> values</td></tr><tr><td><code>object</code></td><td>O</td><td>Python <a data-type=\"indexterm\" data-primary=\"object data type\" id=\"idm140621970255040\"></a>object type; a value can be any Python\n",
    "              object</td></tr><tr><td><code>string_</code></td><td>S</td><td>Fixed-length <a data-type=\"indexterm\" data-primary=\"string_ data type\" id=\"idm140621970252960\"></a>ASCII string type (1 byte per character); for\n",
    "              example, to create a string dtype with length 10, use <code>'S10'</code></td></tr><tr><td><code>unicode_</code></td><td>U</td><td>Fixed-length <a data-type=\"indexterm\" data-primary=\"unicode_ data type\" id=\"idm140621970250464\"></a>Unicode type (number of bytes platform specific);\n",
    "              same specification semantics as <code>string_</code> (e.g., <code>'U10'</code>)</td></tr></tbody></table>\n",
    "    </html>\n",
    "    "
   ]
  },
  {
   "cell_type": "markdown",
   "metadata": {},
   "source": [
    "## Data type while creation"
   ]
  },
  {
   "cell_type": "code",
   "execution_count": 29,
   "metadata": {},
   "outputs": [
    {
     "data": {
      "text/plain": [
       "dtype('float64')"
      ]
     },
     "execution_count": 29,
     "metadata": {},
     "output_type": "execute_result"
    }
   ],
   "source": [
    "arr3 = np.array([1,2,3,4], dtype = float)\n",
    "arr3.dtype"
   ]
  },
  {
   "cell_type": "markdown",
   "metadata": {},
   "source": [
    "## Array creation with function"
   ]
  },
  {
   "cell_type": "code",
   "execution_count": 30,
   "metadata": {},
   "outputs": [
    {
     "data": {
      "text/plain": [
       "array([[0., 0., 0., 0., 0.],\n",
       "       [0., 0., 0., 0., 0.],\n",
       "       [0., 0., 0., 0., 0.],\n",
       "       [0., 0., 0., 0., 0.]])"
      ]
     },
     "execution_count": 30,
     "metadata": {},
     "output_type": "execute_result"
    }
   ],
   "source": [
    "np.zeros((4,5))"
   ]
  },
  {
   "cell_type": "code",
   "execution_count": 33,
   "metadata": {},
   "outputs": [
    {
     "data": {
      "text/plain": [
       "(2, 5)"
      ]
     },
     "execution_count": 33,
     "metadata": {},
     "output_type": "execute_result"
    }
   ],
   "source": [
    "arr2.shape"
   ]
  },
  {
   "cell_type": "code",
   "execution_count": 34,
   "metadata": {},
   "outputs": [
    {
     "data": {
      "text/plain": [
       "array([[0, 0, 0, 0, 0],\n",
       "       [0, 0, 0, 0, 0]])"
      ]
     },
     "execution_count": 34,
     "metadata": {},
     "output_type": "execute_result"
    }
   ],
   "source": [
    "np.zeros_like(arr2)"
   ]
  },
  {
   "cell_type": "code",
   "execution_count": 43,
   "metadata": {},
   "outputs": [
    {
     "data": {
      "text/plain": [
       "dtype('int32')"
      ]
     },
     "execution_count": 43,
     "metadata": {},
     "output_type": "execute_result"
    }
   ],
   "source": [
    "arr1_mod = np.ones((4,2),dtype = np.int32)\n",
    "arr1_mod.dtype"
   ]
  },
  {
   "cell_type": "code",
   "execution_count": 44,
   "metadata": {},
   "outputs": [
    {
     "data": {
      "text/plain": [
       "(array([[1, 1],\n",
       "        [1, 1],\n",
       "        [1, 1],\n",
       "        [1, 1]]),\n",
       " array([[1, 1, 1, 1, 1],\n",
       "        [1, 1, 1, 1, 1]]))"
      ]
     },
     "execution_count": 44,
     "metadata": {},
     "output_type": "execute_result"
    }
   ],
   "source": [
    "np.ones((4,2),dtype = int),np.ones_like(arr2)"
   ]
  },
  {
   "cell_type": "code",
   "execution_count": 46,
   "metadata": {},
   "outputs": [
    {
     "data": {
      "text/plain": [
       "[5, 8, 11, 14, 17, 20, 23, 26, 29, 32, 35, 38, 41, 44, 47]"
      ]
     },
     "execution_count": 46,
     "metadata": {},
     "output_type": "execute_result"
    }
   ],
   "source": [
    "list(range(5,50,3))"
   ]
  },
  {
   "cell_type": "code",
   "execution_count": 45,
   "metadata": {},
   "outputs": [
    {
     "data": {
      "text/plain": [
       "array([ 5,  8, 11, 14, 17, 20, 23, 26, 29, 32, 35, 38, 41, 44, 47])"
      ]
     },
     "execution_count": 45,
     "metadata": {},
     "output_type": "execute_result"
    }
   ],
   "source": [
    "np.arange(5,50,3)"
   ]
  },
  {
   "cell_type": "code",
   "execution_count": 50,
   "metadata": {},
   "outputs": [
    {
     "data": {
      "text/plain": [
       "array([ 0.        ,  0.2020202 ,  0.4040404 ,  0.60606061,  0.80808081,\n",
       "        1.01010101,  1.21212121,  1.41414141,  1.61616162,  1.81818182,\n",
       "        2.02020202,  2.22222222,  2.42424242,  2.62626263,  2.82828283,\n",
       "        3.03030303,  3.23232323,  3.43434343,  3.63636364,  3.83838384,\n",
       "        4.04040404,  4.24242424,  4.44444444,  4.64646465,  4.84848485,\n",
       "        5.05050505,  5.25252525,  5.45454545,  5.65656566,  5.85858586,\n",
       "        6.06060606,  6.26262626,  6.46464646,  6.66666667,  6.86868687,\n",
       "        7.07070707,  7.27272727,  7.47474747,  7.67676768,  7.87878788,\n",
       "        8.08080808,  8.28282828,  8.48484848,  8.68686869,  8.88888889,\n",
       "        9.09090909,  9.29292929,  9.49494949,  9.6969697 ,  9.8989899 ,\n",
       "       10.1010101 , 10.3030303 , 10.50505051, 10.70707071, 10.90909091,\n",
       "       11.11111111, 11.31313131, 11.51515152, 11.71717172, 11.91919192,\n",
       "       12.12121212, 12.32323232, 12.52525253, 12.72727273, 12.92929293,\n",
       "       13.13131313, 13.33333333, 13.53535354, 13.73737374, 13.93939394,\n",
       "       14.14141414, 14.34343434, 14.54545455, 14.74747475, 14.94949495,\n",
       "       15.15151515, 15.35353535, 15.55555556, 15.75757576, 15.95959596,\n",
       "       16.16161616, 16.36363636, 16.56565657, 16.76767677, 16.96969697,\n",
       "       17.17171717, 17.37373737, 17.57575758, 17.77777778, 17.97979798,\n",
       "       18.18181818, 18.38383838, 18.58585859, 18.78787879, 18.98989899,\n",
       "       19.19191919, 19.39393939, 19.5959596 , 19.7979798 , 20.        ])"
      ]
     },
     "execution_count": 50,
     "metadata": {},
     "output_type": "execute_result"
    }
   ],
   "source": [
    "np.linspace(0,20,100)"
   ]
  },
  {
   "cell_type": "markdown",
   "metadata": {},
   "source": [
    "<html>\n",
    "    <table id=\"table_array_ctor\"><caption><span class=\"label\">Table 4-1. </span>Array creation functions</caption><thead><tr><th>Function</th><th>Description</th></tr></thead><tbody><tr><td><code>array</code></td><td>Convert input <a data-type=\"indexterm\" data-primary=\"array function\" id=\"idm140621970503616\"></a>data (list, tuple, array, or other sequence type)\n",
    "              to an ndarray either by inferring a dtype or explicitly\n",
    "              specifying a dtype; copies the input data by default</td></tr><tr><td><code>asarray</code></td><td>Convert input to <a data-type=\"indexterm\" data-primary=\"asarray function\" id=\"idm140621970501616\"></a>ndarray, but do not copy if the input is already\n",
    "              an ndarray</td></tr><tr><td><code>arange</code></td><td>Like the <a data-type=\"indexterm\" data-primary=\"arange function\" id=\"idm140621970499824\"></a><a data-type=\"indexterm\" data-primary=\"range function\" id=\"idm140621970498960\"></a>built-in <code>range</code>\n",
    "              but returns an ndarray instead of a list</td></tr><tr><td><code>ones, ones_like</code></td><td>Produce an array <a data-type=\"indexterm\" data-primary=\"\" data-startref=\"oneskb\" id=\"idm140621970496752\"></a><a data-type=\"indexterm\" data-primary=\"ones_like function\" id=\"idm140621970495616\"></a>of all 1s with the given shape and dtype;\n",
    "              <code>ones_like</code> takes another array\n",
    "              and produces a ones array of the same shape and dtype</td></tr><tr><td><code>zeros, zeros_like</code></td><td>Like <code>ones</code> and <code>ones_like</code> but <a data-type=\"indexterm\" data-primary=\"\" data-startref=\"zeroskb\" id=\"idm140621970492432\"></a><a data-type=\"indexterm\" data-primary=\"zeros_like function\" id=\"idm140621970491296\"></a>producing arrays of 0s instead</td></tr><tr><td><code>empty, empty_like</code></td><td>Create new arrays by <a data-type=\"indexterm\" data-primary=\"\" data-startref=\"emptykb\" id=\"idm140621970489536\"></a><a data-type=\"indexterm\" data-primary=\"empty_like function\" id=\"idm140621970488400\"></a>allocating new memory, but do not populate with\n",
    "              any values like <code>ones</code> and\n",
    "              <code>zeros</code></td></tr><tr><td><code>full, full_like</code></td><td>Produce an array <a data-type=\"indexterm\" data-primary=\"full function\" id=\"idm140621970485808\"></a><a data-type=\"indexterm\" data-primary=\"full_like function\" id=\"idm140621970484944\"></a>of the given shape and dtype with all values set\n",
    "              to the indicated “fill value” <code>full_like</code> takes another array and\n",
    "              produces a filled array of the same shape and dtype</td></tr><tr><td><code>eye, identity</code></td><td>Create a <a data-type=\"indexterm\" data-primary=\"eye function\" id=\"idm140621970482544\"></a><a data-type=\"indexterm\" data-primary=\"identity function\" id=\"idm140621970481680\"></a>square N × N identity matrix (1s on the diagonal\n",
    "              <a data-type=\"indexterm\" data-primary=\"\" data-startref=\"nd4.1.1\" id=\"idm140621970480720\"></a>and 0s elsewhere)</td></tr></tbody></table>\n",
    "</html>"
   ]
  },
  {
   "cell_type": "markdown",
   "metadata": {},
   "source": [
    "### Array creating with random numbers"
   ]
  },
  {
   "cell_type": "code",
   "execution_count": 51,
   "metadata": {},
   "outputs": [],
   "source": [
    "np.random?"
   ]
  },
  {
   "cell_type": "code",
   "execution_count": 69,
   "metadata": {},
   "outputs": [
    {
     "name": "stdout",
     "output_type": "stream",
     "text": [
      "[[5 1]\n",
      " [2 1]\n",
      " [2 9]]\n",
      "[[1 9]\n",
      " [7 5]\n",
      " [4 1]]\n"
     ]
    }
   ],
   "source": [
    "np.random.seed(10)\n",
    "\n",
    "print(np.random.randint(1,10,size = (3,2)))\n",
    "\n",
    "print(np.random.randint(1,10,size = (3,2)))"
   ]
  },
  {
   "cell_type": "code",
   "execution_count": 76,
   "metadata": {},
   "outputs": [
    {
     "data": {
      "text/plain": [
       "array([[ 5, 10, 15, 20],\n",
       "       [25, 30, 35, 40],\n",
       "       [45, 50, 55, 60]])"
      ]
     },
     "execution_count": 76,
     "metadata": {},
     "output_type": "execute_result"
    }
   ],
   "source": [
    "np.arange(5,65,5).reshape(3,4)"
   ]
  },
  {
   "cell_type": "markdown",
   "metadata": {},
   "source": [
    "# Basic Operations"
   ]
  },
  {
   "cell_type": "code",
   "execution_count": 77,
   "metadata": {},
   "outputs": [
    {
     "data": {
      "text/plain": [
       "(array([2, 4, 6, 8]), array([1, 3, 5, 7]))"
      ]
     },
     "execution_count": 77,
     "metadata": {},
     "output_type": "execute_result"
    }
   ],
   "source": [
    "a = np.arange(2,10,2)\n",
    "b = np.arange(1,9,2)\n",
    "a,b"
   ]
  },
  {
   "cell_type": "code",
   "execution_count": 78,
   "metadata": {},
   "outputs": [
    {
     "data": {
      "text/plain": [
       "array([ 3,  7, 11, 15])"
      ]
     },
     "execution_count": 78,
     "metadata": {},
     "output_type": "execute_result"
    }
   ],
   "source": [
    "a+b"
   ]
  },
  {
   "cell_type": "code",
   "execution_count": 79,
   "metadata": {},
   "outputs": [
    {
     "data": {
      "text/plain": [
       "array([ 2, 12, 30, 56])"
      ]
     },
     "execution_count": 79,
     "metadata": {},
     "output_type": "execute_result"
    }
   ],
   "source": [
    "a*b"
   ]
  },
  {
   "cell_type": "code",
   "execution_count": 80,
   "metadata": {},
   "outputs": [
    {
     "data": {
      "text/plain": [
       "array([[1, 3],\n",
       "       [2, 4]])"
      ]
     },
     "execution_count": 80,
     "metadata": {},
     "output_type": "execute_result"
    }
   ],
   "source": [
    "arow1 = np.arange(1,5,2)\n",
    "arow2 = np.arange(2,6,2)\n",
    "A = np.array((arow1,arow2))\n",
    "A"
   ]
  },
  {
   "cell_type": "code",
   "execution_count": 81,
   "metadata": {},
   "outputs": [
    {
     "data": {
      "text/plain": [
       "array([[0, 2],\n",
       "       [1, 3]])"
      ]
     },
     "execution_count": 81,
     "metadata": {},
     "output_type": "execute_result"
    }
   ],
   "source": [
    "brow1 = np.arange(0,3,2)\n",
    "brow2 = np.arange(1,4,2)\n",
    "B = np.array((brow1,brow2))\n",
    "B"
   ]
  },
  {
   "cell_type": "code",
   "execution_count": 82,
   "metadata": {},
   "outputs": [
    {
     "data": {
      "text/plain": [
       "array([[ 0,  6],\n",
       "       [ 2, 12]])"
      ]
     },
     "execution_count": 82,
     "metadata": {},
     "output_type": "execute_result"
    }
   ],
   "source": [
    "A*B"
   ]
  },
  {
   "cell_type": "code",
   "execution_count": 83,
   "metadata": {},
   "outputs": [
    {
     "data": {
      "text/plain": [
       "array([[ 3, 11],\n",
       "       [ 4, 16]])"
      ]
     },
     "execution_count": 83,
     "metadata": {},
     "output_type": "execute_result"
    }
   ],
   "source": [
    "A .dot(B)"
   ]
  },
  {
   "cell_type": "code",
   "execution_count": 84,
   "metadata": {},
   "outputs": [
    {
     "data": {
      "text/plain": [
       "array([[ 3, 11],\n",
       "       [ 4, 16]])"
      ]
     },
     "execution_count": 84,
     "metadata": {},
     "output_type": "execute_result"
    }
   ],
   "source": [
    "A @ B"
   ]
  },
  {
   "cell_type": "markdown",
   "metadata": {},
   "source": [
    "## Vector Operations \n"
   ]
  },
  {
   "cell_type": "code",
   "execution_count": 85,
   "metadata": {},
   "outputs": [
    {
     "data": {
      "text/plain": [
       "array([[ 5, 10, 15],\n",
       "       [20, 25, 30],\n",
       "       [35, 40, 45],\n",
       "       [50, 55, 60]])"
      ]
     },
     "execution_count": 85,
     "metadata": {},
     "output_type": "execute_result"
    }
   ],
   "source": [
    "X = np.arange(5,65,5).reshape(4,3)\n",
    "X"
   ]
  },
  {
   "cell_type": "markdown",
   "metadata": {},
   "source": [
    "* axis = 0 columnwise vectors\n",
    "* axis = 1 rowwise vectors"
   ]
  },
  {
   "cell_type": "code",
   "execution_count": 88,
   "metadata": {},
   "outputs": [
    {
     "data": {
      "text/plain": [
       "(array([ 5, 20, 35, 50]), array([ 5, 10, 15]), 5)"
      ]
     },
     "execution_count": 88,
     "metadata": {},
     "output_type": "execute_result"
    }
   ],
   "source": [
    "X.min(axis = 1),X.min(axis = 0),X.min()"
   ]
  },
  {
   "cell_type": "code",
   "execution_count": 93,
   "metadata": {},
   "outputs": [
    {
     "data": {
      "text/plain": [
       "(array([0, 0, 0, 0]), array([0, 0, 0, 0]), 0)"
      ]
     },
     "execution_count": 93,
     "metadata": {},
     "output_type": "execute_result"
    }
   ],
   "source": [
    "X.argmin(axis = 1),X.argmin(axis = 1),X.argmin()"
   ]
  },
  {
   "cell_type": "code",
   "execution_count": 94,
   "metadata": {},
   "outputs": [
    {
     "data": {
      "text/plain": [
       "(array([15, 30, 45, 60]), array([50, 55, 60]), 60)"
      ]
     },
     "execution_count": 94,
     "metadata": {},
     "output_type": "execute_result"
    }
   ],
   "source": [
    "X.max(axis = 1),X.max(axis = 0),X.max()"
   ]
  },
  {
   "cell_type": "code",
   "execution_count": 95,
   "metadata": {},
   "outputs": [
    {
     "data": {
      "text/plain": [
       "(array([2, 2, 2, 2]), array([3, 3, 3]), 11)"
      ]
     },
     "execution_count": 95,
     "metadata": {},
     "output_type": "execute_result"
    }
   ],
   "source": [
    "X.argmax(axis = 1),X.argmax(axis = 0),X.argmax()"
   ]
  },
  {
   "cell_type": "code",
   "execution_count": 89,
   "metadata": {},
   "outputs": [
    {
     "data": {
      "text/plain": [
       "array([ 30,  75, 120, 165])"
      ]
     },
     "execution_count": 89,
     "metadata": {},
     "output_type": "execute_result"
    }
   ],
   "source": [
    "X.sum(axis = 1)"
   ]
  },
  {
   "cell_type": "code",
   "execution_count": 92,
   "metadata": {},
   "outputs": [
    {
     "data": {
      "text/plain": [
       "(array([[  5,  10,  15],\n",
       "        [ 25,  35,  45],\n",
       "        [ 60,  75,  90],\n",
       "        [110, 130, 150]]),\n",
       " array([[  5,  15,  30],\n",
       "        [ 20,  45,  75],\n",
       "        [ 35,  75, 120],\n",
       "        [ 50, 105, 165]]),\n",
       " array([  5,  15,  30,  50,  75, 105, 140, 180, 225, 275, 330, 390]))"
      ]
     },
     "execution_count": 92,
     "metadata": {},
     "output_type": "execute_result"
    }
   ],
   "source": [
    "X.cumsum(axis = 0),X.cumsum(axis = 1),X.cumsum()"
   ]
  },
  {
   "cell_type": "markdown",
   "metadata": {},
   "source": [
    "<div class=\"section\" id=\"functions-and-methods-overview\">\n",
    "<h3>Functions and Methods Overview<a class=\"headerlink\" href=\"#functions-and-methods-overview\" title=\"Permalink to this headline\">¶</a></h3>\n",
    "<p>Here is a list of some useful NumPy functions and methods names\n",
    "ordered in categories. See <a class=\"reference internal\" href=\"../reference/routines.html#routines\"><span class=\"std std-ref\">Routines</span></a> for the full list.</p>\n",
    "<dl class=\"docutils\">\n",
    "<dt>Array Creation</dt>\n",
    "<dd><a class=\"reference internal\" href=\"../reference/generated/numpy.arange.html#numpy.arange\" title=\"numpy.arange\"><code class=\"xref py py-obj docutils literal notranslate\"><span class=\"pre\">arange</span></code></a>,\n",
    "<a class=\"reference internal\" href=\"../reference/generated/numpy.array.html#numpy.array\" title=\"numpy.array\"><code class=\"xref py py-obj docutils literal notranslate\"><span class=\"pre\">array</span></code></a>,\n",
    "<a class=\"reference internal\" href=\"../reference/generated/numpy.copy.html#numpy.copy\" title=\"numpy.copy\"><code class=\"xref py py-obj docutils literal notranslate\"><span class=\"pre\">copy</span></code></a>,\n",
    "<a class=\"reference internal\" href=\"../reference/generated/numpy.empty.html#numpy.empty\" title=\"numpy.empty\"><code class=\"xref py py-obj docutils literal notranslate\"><span class=\"pre\">empty</span></code></a>,\n",
    "<a class=\"reference internal\" href=\"../reference/generated/numpy.empty_like.html#numpy.empty_like\" title=\"numpy.empty_like\"><code class=\"xref py py-obj docutils literal notranslate\"><span class=\"pre\">empty_like</span></code></a>,\n",
    "<a class=\"reference internal\" href=\"../reference/generated/numpy.eye.html#numpy.eye\" title=\"numpy.eye\"><code class=\"xref py py-obj docutils literal notranslate\"><span class=\"pre\">eye</span></code></a>,\n",
    "<a class=\"reference internal\" href=\"../reference/generated/numpy.fromfile.html#numpy.fromfile\" title=\"numpy.fromfile\"><code class=\"xref py py-obj docutils literal notranslate\"><span class=\"pre\">fromfile</span></code></a>,\n",
    "<a class=\"reference internal\" href=\"../reference/generated/numpy.fromfunction.html#numpy.fromfunction\" title=\"numpy.fromfunction\"><code class=\"xref py py-obj docutils literal notranslate\"><span class=\"pre\">fromfunction</span></code></a>,\n",
    "<a class=\"reference internal\" href=\"../reference/generated/numpy.identity.html#numpy.identity\" title=\"numpy.identity\"><code class=\"xref py py-obj docutils literal notranslate\"><span class=\"pre\">identity</span></code></a>,\n",
    "<a class=\"reference internal\" href=\"../reference/generated/numpy.linspace.html#numpy.linspace\" title=\"numpy.linspace\"><code class=\"xref py py-obj docutils literal notranslate\"><span class=\"pre\">linspace</span></code></a>,\n",
    "<a class=\"reference internal\" href=\"../reference/generated/numpy.logspace.html#numpy.logspace\" title=\"numpy.logspace\"><code class=\"xref py py-obj docutils literal notranslate\"><span class=\"pre\">logspace</span></code></a>,\n",
    "<a class=\"reference internal\" href=\"../reference/generated/numpy.mgrid.html#numpy.mgrid\" title=\"numpy.mgrid\"><code class=\"xref py py-obj docutils literal notranslate\"><span class=\"pre\">mgrid</span></code></a>,\n",
    "<a class=\"reference internal\" href=\"../reference/generated/numpy.ogrid.html#numpy.ogrid\" title=\"numpy.ogrid\"><code class=\"xref py py-obj docutils literal notranslate\"><span class=\"pre\">ogrid</span></code></a>,\n",
    "<a class=\"reference internal\" href=\"../reference/generated/numpy.ones.html#numpy.ones\" title=\"numpy.ones\"><code class=\"xref py py-obj docutils literal notranslate\"><span class=\"pre\">ones</span></code></a>,\n",
    "<a class=\"reference internal\" href=\"../reference/generated/numpy.ones_like.html#numpy.ones_like\" title=\"numpy.ones_like\"><code class=\"xref py py-obj docutils literal notranslate\"><span class=\"pre\">ones_like</span></code></a>,\n",
    "<em class=\"xref py py-obj\">r</em>,\n",
    "<a class=\"reference internal\" href=\"../reference/generated/numpy.zeros.html#numpy.zeros\" title=\"numpy.zeros\"><code class=\"xref py py-obj docutils literal notranslate\"><span class=\"pre\">zeros</span></code></a>,\n",
    "<a class=\"reference internal\" href=\"../reference/generated/numpy.zeros_like.html#numpy.zeros_like\" title=\"numpy.zeros_like\"><code class=\"xref py py-obj docutils literal notranslate\"><span class=\"pre\">zeros_like</span></code></a></dd>\n",
    "<dt>Conversions</dt>\n",
    "<dd><a class=\"reference internal\" href=\"../reference/generated/numpy.ndarray.astype.html#numpy.ndarray.astype\" title=\"numpy.ndarray.astype\"><code class=\"xref py py-obj docutils literal notranslate\"><span class=\"pre\">ndarray.astype</span></code></a>,\n",
    "<a class=\"reference internal\" href=\"../reference/generated/numpy.atleast_1d.html#numpy.atleast_1d\" title=\"numpy.atleast_1d\"><code class=\"xref py py-obj docutils literal notranslate\"><span class=\"pre\">atleast_1d</span></code></a>,\n",
    "<a class=\"reference internal\" href=\"../reference/generated/numpy.atleast_2d.html#numpy.atleast_2d\" title=\"numpy.atleast_2d\"><code class=\"xref py py-obj docutils literal notranslate\"><span class=\"pre\">atleast_2d</span></code></a>,\n",
    "<a class=\"reference internal\" href=\"../reference/generated/numpy.atleast_3d.html#numpy.atleast_3d\" title=\"numpy.atleast_3d\"><code class=\"xref py py-obj docutils literal notranslate\"><span class=\"pre\">atleast_3d</span></code></a>,\n",
    "<a class=\"reference internal\" href=\"../reference/generated/numpy.mat.html#numpy.mat\" title=\"numpy.mat\"><code class=\"xref py py-obj docutils literal notranslate\"><span class=\"pre\">mat</span></code></a></dd>\n",
    "<dt>Manipulations</dt>\n",
    "<dd><a class=\"reference internal\" href=\"../reference/generated/numpy.array_split.html#numpy.array_split\" title=\"numpy.array_split\"><code class=\"xref py py-obj docutils literal notranslate\"><span class=\"pre\">array_split</span></code></a>,\n",
    "<a class=\"reference internal\" href=\"../reference/generated/numpy.column_stack.html#numpy.column_stack\" title=\"numpy.column_stack\"><code class=\"xref py py-obj docutils literal notranslate\"><span class=\"pre\">column_stack</span></code></a>,\n",
    "<a class=\"reference internal\" href=\"../reference/generated/numpy.concatenate.html#numpy.concatenate\" title=\"numpy.concatenate\"><code class=\"xref py py-obj docutils literal notranslate\"><span class=\"pre\">concatenate</span></code></a>,\n",
    "<a class=\"reference internal\" href=\"../reference/generated/numpy.diagonal.html#numpy.diagonal\" title=\"numpy.diagonal\"><code class=\"xref py py-obj docutils literal notranslate\"><span class=\"pre\">diagonal</span></code></a>,\n",
    "<a class=\"reference internal\" href=\"../reference/generated/numpy.dsplit.html#numpy.dsplit\" title=\"numpy.dsplit\"><code class=\"xref py py-obj docutils literal notranslate\"><span class=\"pre\">dsplit</span></code></a>,\n",
    "<a class=\"reference internal\" href=\"../reference/generated/numpy.dstack.html#numpy.dstack\" title=\"numpy.dstack\"><code class=\"xref py py-obj docutils literal notranslate\"><span class=\"pre\">dstack</span></code></a>,\n",
    "<a class=\"reference internal\" href=\"../reference/generated/numpy.hsplit.html#numpy.hsplit\" title=\"numpy.hsplit\"><code class=\"xref py py-obj docutils literal notranslate\"><span class=\"pre\">hsplit</span></code></a>,\n",
    "<a class=\"reference internal\" href=\"../reference/generated/numpy.hstack.html#numpy.hstack\" title=\"numpy.hstack\"><code class=\"xref py py-obj docutils literal notranslate\"><span class=\"pre\">hstack</span></code></a>,\n",
    "<a class=\"reference internal\" href=\"../reference/generated/numpy.ndarray.item.html#numpy.ndarray.item\" title=\"numpy.ndarray.item\"><code class=\"xref py py-obj docutils literal notranslate\"><span class=\"pre\">ndarray.item</span></code></a>,\n",
    "<a class=\"reference internal\" href=\"../reference/constants.html#numpy.newaxis\" title=\"numpy.newaxis\"><code class=\"xref py py-obj docutils literal notranslate\"><span class=\"pre\">newaxis</span></code></a>,\n",
    "<a class=\"reference internal\" href=\"../reference/generated/numpy.ravel.html#numpy.ravel\" title=\"numpy.ravel\"><code class=\"xref py py-obj docutils literal notranslate\"><span class=\"pre\">ravel</span></code></a>,\n",
    "<a class=\"reference internal\" href=\"../reference/generated/numpy.repeat.html#numpy.repeat\" title=\"numpy.repeat\"><code class=\"xref py py-obj docutils literal notranslate\"><span class=\"pre\">repeat</span></code></a>,\n",
    "<a class=\"reference internal\" href=\"../reference/generated/numpy.reshape.html#numpy.reshape\" title=\"numpy.reshape\"><code class=\"xref py py-obj docutils literal notranslate\"><span class=\"pre\">reshape</span></code></a>,\n",
    "<a class=\"reference internal\" href=\"../reference/generated/numpy.resize.html#numpy.resize\" title=\"numpy.resize\"><code class=\"xref py py-obj docutils literal notranslate\"><span class=\"pre\">resize</span></code></a>,\n",
    "<a class=\"reference internal\" href=\"../reference/generated/numpy.squeeze.html#numpy.squeeze\" title=\"numpy.squeeze\"><code class=\"xref py py-obj docutils literal notranslate\"><span class=\"pre\">squeeze</span></code></a>,\n",
    "<a class=\"reference internal\" href=\"../reference/generated/numpy.swapaxes.html#numpy.swapaxes\" title=\"numpy.swapaxes\"><code class=\"xref py py-obj docutils literal notranslate\"><span class=\"pre\">swapaxes</span></code></a>,\n",
    "<a class=\"reference internal\" href=\"../reference/generated/numpy.take.html#numpy.take\" title=\"numpy.take\"><code class=\"xref py py-obj docutils literal notranslate\"><span class=\"pre\">take</span></code></a>,\n",
    "<a class=\"reference internal\" href=\"../reference/generated/numpy.transpose.html#numpy.transpose\" title=\"numpy.transpose\"><code class=\"xref py py-obj docutils literal notranslate\"><span class=\"pre\">transpose</span></code></a>,\n",
    "<a class=\"reference internal\" href=\"../reference/generated/numpy.vsplit.html#numpy.vsplit\" title=\"numpy.vsplit\"><code class=\"xref py py-obj docutils literal notranslate\"><span class=\"pre\">vsplit</span></code></a>,\n",
    "<a class=\"reference internal\" href=\"../reference/generated/numpy.vstack.html#numpy.vstack\" title=\"numpy.vstack\"><code class=\"xref py py-obj docutils literal notranslate\"><span class=\"pre\">vstack</span></code></a></dd>\n",
    "<dt>Questions</dt>\n",
    "<dd><a class=\"reference internal\" href=\"../reference/generated/numpy.all.html#numpy.all\" title=\"numpy.all\"><code class=\"xref py py-obj docutils literal notranslate\"><span class=\"pre\">all</span></code></a>,\n",
    "<a class=\"reference internal\" href=\"../reference/generated/numpy.any.html#numpy.any\" title=\"numpy.any\"><code class=\"xref py py-obj docutils literal notranslate\"><span class=\"pre\">any</span></code></a>,\n",
    "<a class=\"reference internal\" href=\"../reference/generated/numpy.nonzero.html#numpy.nonzero\" title=\"numpy.nonzero\"><code class=\"xref py py-obj docutils literal notranslate\"><span class=\"pre\">nonzero</span></code></a>,\n",
    "<a class=\"reference internal\" href=\"../reference/generated/numpy.where.html#numpy.where\" title=\"numpy.where\"><code class=\"xref py py-obj docutils literal notranslate\"><span class=\"pre\">where</span></code></a></dd>\n",
    "<dt>Ordering</dt>\n",
    "<dd><a class=\"reference internal\" href=\"../reference/generated/numpy.argmax.html#numpy.argmax\" title=\"numpy.argmax\"><code class=\"xref py py-obj docutils literal notranslate\"><span class=\"pre\">argmax</span></code></a>,\n",
    "<a class=\"reference internal\" href=\"../reference/generated/numpy.argmin.html#numpy.argmin\" title=\"numpy.argmin\"><code class=\"xref py py-obj docutils literal notranslate\"><span class=\"pre\">argmin</span></code></a>,\n",
    "<a class=\"reference internal\" href=\"../reference/generated/numpy.argsort.html#numpy.argsort\" title=\"numpy.argsort\"><code class=\"xref py py-obj docutils literal notranslate\"><span class=\"pre\">argsort</span></code></a>,\n",
    "<a class=\"reference external\" href=\"https://docs.python.org/dev/library/functions.html#max\" title=\"(in Python v3.9)\"><code class=\"xref py py-obj docutils literal notranslate\"><span class=\"pre\">max</span></code></a>,\n",
    "<a class=\"reference external\" href=\"https://docs.python.org/dev/library/functions.html#min\" title=\"(in Python v3.9)\"><code class=\"xref py py-obj docutils literal notranslate\"><span class=\"pre\">min</span></code></a>,\n",
    "<a class=\"reference internal\" href=\"../reference/generated/numpy.ptp.html#numpy.ptp\" title=\"numpy.ptp\"><code class=\"xref py py-obj docutils literal notranslate\"><span class=\"pre\">ptp</span></code></a>,\n",
    "<a class=\"reference internal\" href=\"../reference/generated/numpy.searchsorted.html#numpy.searchsorted\" title=\"numpy.searchsorted\"><code class=\"xref py py-obj docutils literal notranslate\"><span class=\"pre\">searchsorted</span></code></a>,\n",
    "<a class=\"reference internal\" href=\"../reference/generated/numpy.sort.html#numpy.sort\" title=\"numpy.sort\"><code class=\"xref py py-obj docutils literal notranslate\"><span class=\"pre\">sort</span></code></a></dd>\n",
    "<dt>Operations</dt>\n",
    "<dd><a class=\"reference internal\" href=\"../reference/generated/numpy.choose.html#numpy.choose\" title=\"numpy.choose\"><code class=\"xref py py-obj docutils literal notranslate\"><span class=\"pre\">choose</span></code></a>,\n",
    "<a class=\"reference internal\" href=\"../reference/generated/numpy.compress.html#numpy.compress\" title=\"numpy.compress\"><code class=\"xref py py-obj docutils literal notranslate\"><span class=\"pre\">compress</span></code></a>,\n",
    "<a class=\"reference internal\" href=\"../reference/generated/numpy.cumprod.html#numpy.cumprod\" title=\"numpy.cumprod\"><code class=\"xref py py-obj docutils literal notranslate\"><span class=\"pre\">cumprod</span></code></a>,\n",
    "<a class=\"reference internal\" href=\"../reference/generated/numpy.cumsum.html#numpy.cumsum\" title=\"numpy.cumsum\"><code class=\"xref py py-obj docutils literal notranslate\"><span class=\"pre\">cumsum</span></code></a>,\n",
    "<a class=\"reference internal\" href=\"../reference/generated/numpy.inner.html#numpy.inner\" title=\"numpy.inner\"><code class=\"xref py py-obj docutils literal notranslate\"><span class=\"pre\">inner</span></code></a>,\n",
    "<a class=\"reference internal\" href=\"../reference/generated/numpy.ndarray.fill.html#numpy.ndarray.fill\" title=\"numpy.ndarray.fill\"><code class=\"xref py py-obj docutils literal notranslate\"><span class=\"pre\">ndarray.fill</span></code></a>,\n",
    "<a class=\"reference internal\" href=\"../reference/generated/numpy.imag.html#numpy.imag\" title=\"numpy.imag\"><code class=\"xref py py-obj docutils literal notranslate\"><span class=\"pre\">imag</span></code></a>,\n",
    "<a class=\"reference internal\" href=\"../reference/generated/numpy.prod.html#numpy.prod\" title=\"numpy.prod\"><code class=\"xref py py-obj docutils literal notranslate\"><span class=\"pre\">prod</span></code></a>,\n",
    "<a class=\"reference internal\" href=\"../reference/generated/numpy.put.html#numpy.put\" title=\"numpy.put\"><code class=\"xref py py-obj docutils literal notranslate\"><span class=\"pre\">put</span></code></a>,\n",
    "<a class=\"reference internal\" href=\"../reference/generated/numpy.putmask.html#numpy.putmask\" title=\"numpy.putmask\"><code class=\"xref py py-obj docutils literal notranslate\"><span class=\"pre\">putmask</span></code></a>,\n",
    "<a class=\"reference internal\" href=\"../reference/generated/numpy.real.html#numpy.real\" title=\"numpy.real\"><code class=\"xref py py-obj docutils literal notranslate\"><span class=\"pre\">real</span></code></a>,\n",
    "<a class=\"reference internal\" href=\"../reference/generated/numpy.sum.html#numpy.sum\" title=\"numpy.sum\"><code class=\"xref py py-obj docutils literal notranslate\"><span class=\"pre\">sum</span></code></a></dd>\n",
    "<dt>Basic Statistics</dt>\n",
    "<dd><a class=\"reference internal\" href=\"../reference/generated/numpy.cov.html#numpy.cov\" title=\"numpy.cov\"><code class=\"xref py py-obj docutils literal notranslate\"><span class=\"pre\">cov</span></code></a>,\n",
    "<a class=\"reference internal\" href=\"../reference/generated/numpy.mean.html#numpy.mean\" title=\"numpy.mean\"><code class=\"xref py py-obj docutils literal notranslate\"><span class=\"pre\">mean</span></code></a>,\n",
    "<a class=\"reference internal\" href=\"../reference/generated/numpy.std.html#numpy.std\" title=\"numpy.std\"><code class=\"xref py py-obj docutils literal notranslate\"><span class=\"pre\">std</span></code></a>,\n",
    "<a class=\"reference internal\" href=\"../reference/generated/numpy.var.html#numpy.var\" title=\"numpy.var\"><code class=\"xref py py-obj docutils literal notranslate\"><span class=\"pre\">var</span></code></a></dd>\n",
    "<dt>Basic Linear Algebra</dt>\n",
    "<dd><a class=\"reference internal\" href=\"../reference/generated/numpy.cross.html#numpy.cross\" title=\"numpy.cross\"><code class=\"xref py py-obj docutils literal notranslate\"><span class=\"pre\">cross</span></code></a>,\n",
    "<a class=\"reference internal\" href=\"../reference/generated/numpy.dot.html#numpy.dot\" title=\"numpy.dot\"><code class=\"xref py py-obj docutils literal notranslate\"><span class=\"pre\">dot</span></code></a>,\n",
    "<a class=\"reference internal\" href=\"../reference/generated/numpy.outer.html#numpy.outer\" title=\"numpy.outer\"><code class=\"xref py py-obj docutils literal notranslate\"><span class=\"pre\">outer</span></code></a>,\n",
    "<a class=\"reference internal\" href=\"../reference/generated/numpy.linalg.svd.html#numpy.linalg.svd\" title=\"numpy.linalg.svd\"><code class=\"xref py py-obj docutils literal notranslate\"><span class=\"pre\">linalg.svd</span></code></a>,\n",
    "<a class=\"reference internal\" href=\"../reference/generated/numpy.vdot.html#numpy.vdot\" title=\"numpy.vdot\"><code class=\"xref py py-obj docutils literal notranslate\"><span class=\"pre\">vdot</span></code></a></dd>\n",
    "</dl>\n",
    "</div>\n",
    "</div>"
   ]
  },
  {
   "cell_type": "markdown",
   "metadata": {},
   "source": [
    "## Indexing and Slicing"
   ]
  },
  {
   "cell_type": "code",
   "execution_count": null,
   "metadata": {},
   "outputs": [],
   "source": [
    "np.random.seed(0)\n",
    "arr_1 = np.random.randint(1,10,size = (4,4))\n",
    "arr_1"
   ]
  },
  {
   "cell_type": "markdown",
   "metadata": {},
   "source": [
    "<html>\n",
    "    <table> \n",
    "        <tr><th>  </th><th>0</th><th>1</th><th>2</th><th>3</th></tr>\n",
    "        <tr><td><b>0</b></td><td>6</td><td>1</td><td>4</td><td>4</td></tr>\n",
    "        <tr><td><b>1</b></td><td>8</td><td>4</td><td>6</td><td>3</td></tr>\n",
    "        <tr><td><b>2</b></td><td>5</td><td>8</td><td>7</td><td>9</td></tr>\n",
    "        <tr><td><b>3</b></td><td>9</td><td>2</td><td>7</td><td>8</td></tr>\n",
    "    </table>\n",
    "</html>"
   ]
  },
  {
   "cell_type": "markdown",
   "metadata": {},
   "source": [
    "### Get single element in  rows and columns"
   ]
  },
  {
   "cell_type": "code",
   "execution_count": null,
   "metadata": {},
   "outputs": [],
   "source": []
  },
  {
   "cell_type": "markdown",
   "metadata": {},
   "source": [
    "### Get multiple rows or columns"
   ]
  },
  {
   "cell_type": "code",
   "execution_count": null,
   "metadata": {},
   "outputs": [],
   "source": []
  },
  {
   "cell_type": "markdown",
   "metadata": {},
   "source": [
    "### Get subset of the matrix"
   ]
  },
  {
   "cell_type": "code",
   "execution_count": null,
   "metadata": {},
   "outputs": [],
   "source": []
  },
  {
   "cell_type": "markdown",
   "metadata": {},
   "source": [
    "## Copies and Views"
   ]
  },
  {
   "cell_type": "code",
   "execution_count": null,
   "metadata": {},
   "outputs": [],
   "source": [
    "arr_mod = arr_1[2:,2:]\n",
    "arr_mod"
   ]
  },
  {
   "cell_type": "code",
   "execution_count": null,
   "metadata": {},
   "outputs": [],
   "source": [
    "arr_mod[:] = 2\n",
    "arr_mod,arr_1"
   ]
  },
  {
   "cell_type": "code",
   "execution_count": null,
   "metadata": {},
   "outputs": [],
   "source": [
    "arr_mod_1 = arr_1[2:,2:].copy()\n",
    "arr_mod_1"
   ]
  },
  {
   "cell_type": "code",
   "execution_count": null,
   "metadata": {},
   "outputs": [],
   "source": [
    "arr_mod_1[:] = 4\n",
    "arr_mod_1,arr_1"
   ]
  },
  {
   "cell_type": "markdown",
   "metadata": {},
   "source": [
    "## Boolean Indexing"
   ]
  },
  {
   "cell_type": "code",
   "execution_count": null,
   "metadata": {},
   "outputs": [],
   "source": [
    "b1 = arr_1>2\n",
    "b1"
   ]
  },
  {
   "cell_type": "code",
   "execution_count": null,
   "metadata": {},
   "outputs": [],
   "source": [
    "arr_1[b1]"
   ]
  },
  {
   "cell_type": "code",
   "execution_count": null,
   "metadata": {},
   "outputs": [],
   "source": [
    "brow = arr_1[0]>4\n",
    "brow"
   ]
  },
  {
   "cell_type": "code",
   "execution_count": null,
   "metadata": {},
   "outputs": [],
   "source": [
    "arr_1[:,brow]"
   ]
  },
  {
   "cell_type": "markdown",
   "metadata": {},
   "source": [
    "### Where condition in numpy"
   ]
  },
  {
   "cell_type": "code",
   "execution_count": null,
   "metadata": {},
   "outputs": [],
   "source": [
    "np.where(arr_1>2,arr_1,0)"
   ]
  }
 ],
 "metadata": {
  "kernelspec": {
   "display_name": "Python 3",
   "language": "python",
   "name": "python3"
  },
  "language_info": {
   "codemirror_mode": {
    "name": "ipython",
    "version": 3
   },
   "file_extension": ".py",
   "mimetype": "text/x-python",
   "name": "python",
   "nbconvert_exporter": "python",
   "pygments_lexer": "ipython3",
   "version": "3.7.6"
  }
 },
 "nbformat": 4,
 "nbformat_minor": 2
}
